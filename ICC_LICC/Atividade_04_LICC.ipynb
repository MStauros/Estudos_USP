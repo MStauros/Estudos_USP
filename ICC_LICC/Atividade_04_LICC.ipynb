{
 "cells": [
  {
   "cell_type": "markdown",
   "metadata": {},
   "source": [
    "### Marcos Santos $\\;\\;\\;$ Estatística e Ciência de Dados    $\\;\\;\\;$     USP  $\\;$   023"
   ]
  },
  {
   "cell_type": "markdown",
   "metadata": {},
   "source": [
    "#### 04 Programa com Laços, Lista e Arquivo CSV\n",
    "##### Atividade da matéria de Laboratório de Introdução a Ciência da Computação\n",
    "\n",
    "Faça um programa de estatísticas sobre os dados de clima em arquivo CSV seguindo a descrição abaixo:\n",
    "\n",
    "O programa NÃO deve usar a \"biblioteca statistics\" ou “biblioteca CSV”, ou qualquer outra biblioteca ou função que realize os cálculos diretamente e que não seja “padrão básico” do Python. O ALUNO DEVERÁ programar todas as funções “a mão”, usando apenas os comandos básicos da linguagem (For, While, If, e funções matemáticas básicas como raiz quadrada ou elevar um número a uma potência – funções do pacote math e exemplos de aula).\n",
    "\n",
    "O único pacote que pode ser usado é o MATH (padrão pré-instalado no Python): import math \n",
    "\n",
    "Como deve ser o programa PYTHON para uso de Arquivos CSV (dados.csv – Dados de Clima)\n",
    "\n",
    "- Leia o arquivo “dados.csv” (do diretório corrente, não use um “path” específico diferente), que é um arquivo como o usado nas aulas A05 e A06 (Listas e CSVs). O arquivo foi obtido originalmente do site: https://climateknowledgeportal.worldbank.org/ (usado nas aulas).Este arquivo possui uma coluna inicial com o ano (valor inteiro) e a coluna seguinte com a média da temperatura neste ano (no Brasil ou em alguma região específica). Use apenas essas 2 primeiras colunas e ignore as demais. Armazene o arquivo em estruturas do tipo LIST e/ou DICT (quantas listas ou dicionários você quiser usar e achar necessário usar)\n",
    "\n",
    "- Uma vez lido o arquivo para a memória e inseridos os dados nas listas, o usuário deve digitar um dos seguintes comandos abaixo, que gera uma saída (print) na tela com o resultado: Valores inteiros são exibidos como inteiros (sem casas após a vírgula) e valores “float” são exibidos na forma numérica com a formatação sempre com 2 (duas) casas após a vírgula. \n",
    "\n",
    "    - Comando “menor”: é digitada a string “menor” e como saída deste comando deve ser obtido o valor do ano e da menor temperatura média presente na lista de dados lidos do CSV. Exemplo: \n",
    "        menor\n",
    "        1917 24.20\n",
    "\n",
    "    - Comando “maior”: é digitada a string “maior” e como saída deste comando deve ser obtido o valor do ano e da maior temperatura média presente na lista de dados lidosdo CSV. Exemplo: \n",
    "        maior\n",
    "        2015 25.97\n",
    "        \n",
    "    - Comando “medglob”: é digitada a string “medglob” e como saída deste comando deve ser exibido o valor da média das médias para toda a lista de dados. Por exemplo, se a lista possui dados de 1901 a 2021, deve ser gerada a média global de todos estes anos:\n",
    "        medglob\n",
    "        24.90\n",
    "\n",
    "    - Comando “media”: é digitada a string “media” (sem acento e com enter depois desta palavra), seguido de um número inteiro (ano inicial, com um enter) e seguido finalmente por mais um número inteiro (ano final, com um enter). O ano inicial e ano final serão anos que constam da lista e que permitem definir um intervalo para o qual se deseja calcular a média das médias anuais (nesse intervalo).\n",
    "\n",
    "    - Comando “meddec”: é digitada a string “meddec” e um valor inteiro (ano inicial), e como saída deste comando deve ser exibida a média de uma década, com DEZ anos sendo considerados a partir do ano inicial fornecido.\n",
    "\n",
    "    - Comando “varini”: é digitada a string “varini” e são exibidos na tela os valores das diferenças entre cada ano e o ano inicial, para toda a lista de anos (1901 a 2021). O primeiro valor exibido é sempre 0.00 pois é o valor do primeiro ano menos o valor do ano inicial (deste mesmo ano) sendo, portanto, zero.\n",
    "\n",
    "\n",
    "RESUMO DOS COMANDOS: \n",
    " -> menor\n",
    "\n",
    " -> maior\n",
    "\n",
    " -> medglob\n",
    "\n",
    " -> media <ano_inicial> <ano_final>\n",
    "\n",
    " -> meddec <ano_inicial>\n",
    " \n",
    " -> varini\n"
   ]
  },
  {
   "cell_type": "code",
   "execution_count": null,
   "metadata": {},
   "outputs": [],
   "source": [
    "#resolução"
   ]
  }
 ],
 "metadata": {
  "language_info": {
   "name": "python"
  },
  "orig_nbformat": 4
 },
 "nbformat": 4,
 "nbformat_minor": 2
}
