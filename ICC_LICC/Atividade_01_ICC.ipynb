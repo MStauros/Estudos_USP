{
 "cells": [
  {
   "cell_type": "markdown",
   "metadata": {},
   "source": [
    "### Marcos Santos $\\;\\;\\;$ Estatística e Ciência de Dados    $\\;\\;\\;$     USP  $\\;$   023"
   ]
  },
  {
   "cell_type": "markdown",
   "metadata": {},
   "source": [
    "#### 01 Convertendo inteiros para hexa e chars\n",
    "\n",
    "\n",
    "Você deve ler uma entrada, que será um valor inteiro.\n",
    "\n",
    "Em seguida, o inteiro deve ser formatado para um hexadecimal. Verificar a seção \"integer representation types\" da documentação: https://docs.python.org/3/library/string.html#format-specification-mini-language Sugestão: usar a função \"format\"\n",
    "\n",
    "Lembre-se que a função de formatação especificada aceita o tipo inteiro!\n",
    "\n",
    "Parabéns. Você tem um número hexadecimal. Agora, para converter cada byte dele em um caractere, precisamos transformá-lo em uma cadeia de bytes. Por sorte, Python tem a função \"fromhex\", do tipo padrão \"bytes\". A documentação abaixo ensina como utilizá-la https://docs.python.org/3/library/stdtypes.html#bytes.fromhex\n",
    "\n",
    "Agora, com sua cadeia de bytes, resta transformá-la em uma cadeia de caracteres. Para isso, temos mais uma biblioteca pronta! Com a função decode, da biblioteca codecs, podemos fazer o que desejamos. Verifique a documentação para utilizar esta função: https://docs.python.org/3/library/codecs.html#codecs.Codec.decode\n",
    "\n",
    "Dois detalhes importantes: 1 - Usaremos a codificação UTF-8, para padronizar nossas saídas. Como usá-las? É só ver a documentação da biblioteca de codecs: https://docs.python.org/3/library/codecs.html#standard-encodings\n",
    "\n",
    "2 - Quando a função decode encontra valores que não consegue traduzir, por padrão, ela dá erro. Não queremos isso. Portanto, vamos usar o modo de erros como 'replace'. Como fazer isso? Documentação, claro ;) https://docs.python.org/3/library/codecs.html#error-handlers"
   ]
  },
  {
   "cell_type": "code",
   "execution_count": null,
   "metadata": {},
   "outputs": [],
   "source": [
    "#resolução\n",
    "import codecs\n",
    "\n",
    "entrada_int = int(input())\n",
    "entrada_hex = \"{0:#x}\".format(entrada_int)\n",
    "entrada_byt = bytes.fromhex(entrada_hex[2:])\n",
    "entrada_crt = codecs.decode(entrada_byt, encoding=\"UTF-8\", errors=\"replace\")\n",
    "\n",
    "print(entrada_crt)"
   ]
  }
 ],
 "metadata": {
  "language_info": {
   "name": "python"
  },
  "orig_nbformat": 4
 },
 "nbformat": 4,
 "nbformat_minor": 2
}
