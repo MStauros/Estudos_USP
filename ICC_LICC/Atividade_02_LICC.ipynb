{
 "cells": [
  {
   "cell_type": "markdown",
   "metadata": {},
   "source": [
    "### Marcos Santos $\\;\\;\\;$ Estatística e Ciência de Dados    $\\;\\;\\;$     USP  $\\;$   023"
   ]
  },
  {
   "cell_type": "markdown",
   "metadata": {},
   "source": [
    "#### 02 Validar uma data\n",
    "\n",
    "Ler uma data fornecida através de três dados inteiros: Dia, Mês e Ano.\n",
    "Testar a validade desta data para saber se esta é uma data válida (OK) ou inválida (ERRO).\n",
    "\n",
    " - Testar se o dia fornecido é um dia válido: dia > 0, dia <= 28 para o mês de fevereiro (29 se o ano  for bissexto), dia <= 30 em abril, junho, setembro e novembro, dia <= 31 nos outros meses.\n",
    " - Testar a validade do mês: mês > 0 e mês < 13.\n",
    " - Testar a validade do ano: ano <= ano atual (use uma constante definida com o valor igual a 2008).\n",
    "\n",
    "Exibir na tela a mensagem correspondente a validação da data, ou seja:\n",
    "OK (em maiúsculas) para uma \"data válida\" ou\n",
    "ERRO (em maiúsculas) para uma \"data inválida\"\n",
    "e terminar a execução do programa."
   ]
  },
  {
   "cell_type": "code",
   "execution_count": null,
   "metadata": {},
   "outputs": [],
   "source": [
    "#Resolução\n",
    "\n",
    "entrada_dia = int(input())\n",
    "entrada_mes = int(input())\n",
    "entrada_ano = int(input())\n",
    "ano_atual = 2023\n",
    "\n",
    "dia = False\n",
    "mes = False\n",
    "ano = False\n",
    "\n",
    "\n",
    "if entrada_ano <= ano_atual and entrada_ano >= 0:\n",
    "    ano = True\n",
    "    if entrada_mes > 0 and entrada_mes <= 12:\n",
    "        mes = True\n",
    "        if entrada_dia > 0 and entrada_dia <= 31:\n",
    "            if entrada_mes == 2:\n",
    "                if entrada_dia <=28:\n",
    "                    dia = True\n",
    "            elif entrada_mes <= 7:\n",
    "                if entrada_mes % 2 == 1:\n",
    "                    dia = True\n",
    "                else:\n",
    "                    if entrada_dia <=30:\n",
    "                        dia = True\n",
    "            else:\n",
    "                if entrada_mes % 2 == 0:\n",
    "                    dia = True\n",
    "                else:\n",
    "                    if entrada_dia <=30:\n",
    "                        dia = True\n",
    "\n",
    "validacao = \"OK\" if ano is True and mes is True and dia is True else \"ERRO\"\n",
    "\n",
    "print(validacao)"
   ]
  }
 ],
 "metadata": {
  "language_info": {
   "name": "python"
  },
  "orig_nbformat": 4
 },
 "nbformat": 4,
 "nbformat_minor": 2
}
