{
 "cells": [
  {
   "cell_type": "markdown",
   "metadata": {},
   "source": [
    "### Marcos Santos $\\;\\;\\;$ Estatística e Ciência de Dados    $\\;\\;\\;$     USP  $\\;$   023"
   ]
  },
  {
   "cell_type": "markdown",
   "metadata": {},
   "source": [
    "#### 01  Programa Sequencial de Cálculo Estatístico\n",
    "##### Atividade da matéria de Laboratório de Introdução a Ciência da Computação\n",
    "\n",
    "1 - O programa deve usar a \"biblioteca statistics\"\n",
    "    Use o comando: import statistics ou import statistic as stat\n",
    "\n",
    "2 - Defina dois conjuntos de dados, por exemplo: (inicialmente com ZERO)\n",
    "    x = [0.0, 0.0, 0.0, 0.0, 0.0] \n",
    "    y = [0.0, 0.0, 0.0, 0.0, 0.0] \n",
    "\n",
    "\n",
    "3 - Agora leia do teclado 5 dados \"float\" para colocar no lugar dos 5 valores do primeiro conjunto de dado, \"x\" no exemplo acima\n",
    "    A atribuição funciona assim, por exemplo:\n",
    "    x[0] = 1.0; x[1] = 2.0;  ... ; x[4] = 5.0   \n",
    "\n",
    "Faça a leitura do teclado com a função \"input\" , convertendo para \"float\" e armazenando na lista de dados\n",
    "\n",
    "4 - Agora leia do teclado mais 5 dados (float) para colocar no lugar dos 5 valores do segundo conjunto de dado, \"y\" no exemplo acima\n",
    "\n",
    "5 - Usando as funcões estatísticas da biblioteca importada... USE O HELP e GOOGLE para ver detalhes da \"statistics\"\n",
    "Exiba os seguintes resultados na tela (são 7 prints ao total) , sendo todos valores com 2 casas após a vírgula:\n",
    "\"print\" de 3 valores (com somente 2 casas após a vírgula) referentes aos dados do primeiro conjunto \"x\"\n",
    " - Media (mean)\n",
    " - Mediana (median)\n",
    " - Desvio Padrão (stdev) \"print\" de 3 valores (com somente 2 casas após a vírgula) referentes aos dados do primeiro conjunto \"y\"\n",
    " - Correlação (correlation)\n",
    "\n",
    "ATENÇÃO: import statistics: precisa da versao python 3.10 ou superior para ter a funcao \"correlation\"!\n",
    "O RUNCODES usa a versão python 3.11, logo, funciona. Se no seu micro a versão for inferior a 3.10, não vai funcionar o correlation.\n"
   ]
  },
  {
   "cell_type": "code",
   "execution_count": null,
   "metadata": {},
   "outputs": [],
   "source": [
    "#Resolução\n",
    "import statistics\n",
    "\n",
    "x = [0.0, 0.0, 0.0, 0.0, 0.0]\n",
    "y = [0.0, 0.0, 0.0, 0.0, 0.0]\n",
    "\n",
    "for i in range(5):\n",
    "    x[i] = float(input())\n",
    "\n",
    "for j in range(5):\n",
    "    y[j] = float(input())\n",
    "\n",
    "x_med = statistics.mean(x)\n",
    "x_medn = statistics.median(x)\n",
    "x_dp = statistics.stdev(x)\n",
    "\n",
    "y_med = statistics.mean(y)\n",
    "y_medn = statistics.median(y)\n",
    "y_dp = statistics.stdev(y)\n",
    "\n",
    "xy_corre = statistics.correlation(x,y)\n",
    "\n",
    "print(f\"{x_med:.2f}\")\n",
    "print(f\"{x_medn:.2f}\")\n",
    "print(f\"{x_dp:.2f}\")\n",
    "\n",
    "print(f\"{y_med:.2f}\")\n",
    "print(f\"{y_medn:.2f}\")\n",
    "print(f\"{y_dp:.2f}\")\n",
    "\n",
    "print(f\"{xy_corre:.2f}\")"
   ]
  }
 ],
 "metadata": {
  "language_info": {
   "name": "python"
  },
  "orig_nbformat": 4
 },
 "nbformat": 4,
 "nbformat_minor": 2
}
