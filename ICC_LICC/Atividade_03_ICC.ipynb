{
 "cells": [
  {
   "cell_type": "markdown",
   "metadata": {},
   "source": [
    "### Marcos Santos $\\;\\;\\;$ Estatística e Ciência de Dados    $\\;\\;\\;$     USP  $\\;$   023"
   ]
  },
  {
   "cell_type": "markdown",
   "metadata": {},
   "source": [
    "#### 02 Astronauta Confuso\n",
    "##### Atividade da matéria de Introdução a Ciência da Computação\n",
    "\n",
    "Em 2050 uma nave espacial partiu a fim de colonizar um novo sistema planetário há poucos anos-luz do planeta Terra, atalhando por um buraco de minhoca. Chegando lá, a tripulação observou alguns fenômenos um tanto curiosos. Caso mais de um astronauta saísse da nave em missão simultaneamente, apenas um retornava com vida. Portanto, foi criado um sistema para controle de missões em que apenas um astronauta era escalado em uma missão por vez, de maneira sequencial ao ingressar em uma fila de espera.\n",
    "\n",
    "Embora todos fossem muito inteligentes, atalhar por este buraco de minhoca alterou de alguma forma a percepção espacial dos tripulantes. Ninguém mais conseguia interpretar sua posição na fila de espera a partir de apenas um número sequencial [1...L], onde L é o número de lugares na fila. Todos precisavam de uma representação numérica de 2 números.\n",
    "\n",
    "Por este motivo, o time de engenheiros projetou a câmara de saída da nave espacial em um formato matricial, mas com formato de pirâmide para preservar a aerodinâmica da nave. Ou seja, assim a fila poderia ser representada em duas dimensões. A ideia desta equipe de engenheiros foi estruturar o formato da fila seguindo uma organização parecida com uma espiral, as posições sendo definidas por posição = [0...N-1][0...N-1]. Embora fosse um formato um tanto peculiar, a câmara oferecia uma visão 360 do universo, a qual até que agradava bastante aos tripulantes.\n",
    "\n",
    "O seu objetivo nesta atividade é escrever um programa em Python que recebe da entrada padrão dois parâmetros relativos ao projeto da câmara espacial e à posição de um astronauta qualquer na fila de espera. O primeiro parâmetro é a quantidade de lugares a serem projetados na câmara de saída da nave espacial pelos engenheiros responsáveis. Leia N e calcule o número de lugares L da seguinte forma: L = N * N. O segundo parâmetro é um número P que representa a quantidade posições na fila que já foram deslocadas pelo astronauta atual.\n",
    "\n",
    "Assuma que a fila começa na posição (0,0). Caso o número de pessoas seja maior que o total de lugares na fila, ou seja P > L, imprima print(f\"O astronauta ja saiu em missao ha {P-L} chamadas.\"). Caso seja a vez do astronauta imprima print(f\"O astronauta esta na posicao: {i} {j}\\nPreste atencao, astronauta, chegou a sua vez!\"). Caso contrário, imprima na tela a posição do astronauta na fila, seguido pelo número de deslocamentos necessários até que chegue a sua vez de sair em missão da seguinte forma: print(f\"O astronauta esta na posicao: {i} {j}\\nAinda faltam {L-P} chamadas para a sua vez!\").\n",
    "\n",
    "A orientação do deslocamento da fila será similar a uma espiral, caminhando da posição (0, 0) até o final da linha, baixando até o final, voltando à esquerda e retornando ao início, conforme a ilustração a seguir:\n",
    "\n",
    "https://i.imgur.com/KfVBUpp.png\n",
    "\n",
    "O formato da entrada será em uma linha, a qual contém os valores de N e P, respectivamente: <N> <P>.\n",
    "\n",
    "https://i.imgur.com/nlOxzaN.png\n",
    "\n",
    "Atenção: Não é preciso utilizar estruturas de dados, apenas variáveis para acumular o posicionamento do astronauta, os quais deverão ser obtidos através de estruturas de repetição.\n"
   ]
  },
  {
   "cell_type": "markdown",
   "metadata": {},
   "source": [
    "Exemplo 1: Observe que existem 7x7=49 lugares na fila e o astronauta já se deslocou 34 vezes, ainda faltando 15 para chegar a sua vez. A posição atual é a (5,4).\n",
    "\n",
    "Entrada:\n",
    "7 34\n",
    "Saída:\n",
    "O astronauta esta na posicao: 5 4\n",
    "Ainda faltam 15 chamadas para a sua vez!"
   ]
  },
  {
   "cell_type": "markdown",
   "metadata": {},
   "source": [
    "Exemplo 2: Observe que existem 12x12=144 lugares na fila e o astronauta já se deslocou 72 vezes, ainda faltando 72 para chegar a sua vez. A posição atual é a (10,1).\n",
    "\n",
    "Entrada:\n",
    "12 72\n",
    "Saída:\n",
    "O astronauta esta na posicao: 10 1\n",
    "Ainda faltam 72 chamadas para a sua vez!"
   ]
  },
  {
   "cell_type": "markdown",
   "metadata": {},
   "source": [
    "Exemplo 3: Observe que existem 5x5=25 lugares na fila e o astronauta já se deslocou 26 vezes, ou seja, ele já saiu para uma missao há 1 chamada atrás.\n",
    "\n",
    "Entrada:\n",
    "5 26\n",
    "Saída:\n",
    "O astronauta ja saiu em missao ha 1 chamadas."
   ]
  },
  {
   "cell_type": "markdown",
   "metadata": {},
   "source": [
    "Exemplo 4: Observe que existem 3x3=9 lugares na fila e o astronauta já se deslocou 9 vezes, ou seja, chegou a sua vez.\n",
    "\n",
    "Entrada:\n",
    "3 9\n",
    "Saída:\n",
    "O astronauta esta na posicao: 1 1\n",
    "Preste atencao, astronauta, chegou a sua vez!"
   ]
  },
  {
   "cell_type": "code",
   "execution_count": null,
   "metadata": {},
   "outputs": [],
   "source": []
  }
 ],
 "metadata": {
  "language_info": {
   "name": "python"
  },
  "orig_nbformat": 4
 },
 "nbformat": 4,
 "nbformat_minor": 2
}
