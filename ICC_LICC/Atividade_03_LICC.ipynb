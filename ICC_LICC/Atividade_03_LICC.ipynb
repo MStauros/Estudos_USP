{
 "cells": [
  {
   "cell_type": "markdown",
   "metadata": {},
   "source": [
    "### Marcos Santos $\\;\\;\\;$ Estatística e Ciência de Dados    $\\;\\;\\;$     USP  $\\;$   023"
   ]
  },
  {
   "cell_type": "markdown",
   "metadata": {},
   "source": [
    "#### 03 Programa com Laços (Loops – FOR / WHILE)\n",
    "##### Atividade da matéria de Laboratório de Introdução a Ciência da Computação\n",
    "\n",
    "Faça um programa de cálculos estatísticos seguindo a descrição abaixo:\n",
    "\n",
    "O programa **NÃO** deve usar a \"biblioteca statistics\" ou qualquer outra biblioteca ou função que realize os cálculos diretamente. **O ALUNO DEVERÁ** programar todas as funções “a mão”, usando apenas os comandos básicos da linguagem (For, While, If, e funções matemáticas básicas como raiz quadrada ou elevar um número a uma potência – funções do pacote math).\n",
    "\n",
    "O único pacote que pode ser usado é o MATH: import math\n",
    "\n",
    "O programa deve conter laços (loops), com pelo menos 1 (ou mais) comando(s) FOR e pelo menos 1 (ou mais) comando(s) WHILE. Tem que ter esses 2 tipos de comandos no programa.\n",
    "\n",
    "1. Leia um primeiro valor numérico inteiro, que vai indicar quantos valores do tipo float, deverão ser\n",
    "lidos a seguir (quantidade de números a serem lidos e armazenados em uma lista). Exemplo:\n",
    "   10\n",
    "2. Agora leia os dados \"float\", tantos quantos foram indicados, para colocar em uma lista de dados. A atribuição de valões em um conjunto de dados funciona assim, por exemplo:\n"
   ]
  },
  {
   "cell_type": "code",
   "execution_count": null,
   "metadata": {},
   "outputs": [],
   "source": [
    " # Se a lista já tiver sido criada previamente\n",
    " # No máximo serão fornecidos 30 dados (maior quantidade usada)\n",
    "x[0] = 1.0; x[1] = 2.0; ... ; x[9] = 10.0\n",
    " # OU ENTÃO\n",
    " # Use o comando list.append, por exemplo:\n",
    "X=[] # Tem que criar a lista vazia inicialmente\n",
    "X.append(1.0) # Adiciona um valor float no X[0]\n",
    "X.append(2.0) # Adiciona um novo valor float no X[1]\n",
    "...\n",
    "X.append(9.0) # Adiciona mais um novo valor na lista X[]\n",
    "\n",
    "#Se quiser, pode operar com os valores, somando por exemplo:\n",
    " #Soma = X[0] + X[1]"
   ]
  },
  {
   "cell_type": "markdown",
   "metadata": {},
   "source": [
    "3. Exiba na tela as seguintes informações, na ordem dada, e obtidas a partir da lista de dados lidos:\n",
    "TODOS os prints de saída devem ser com 3 casas após a vírgula, sempre!\n",
    "\n",
    "3.1. Exiba o menor valor da lista (maior entre todos os valores lidos e que estão na lista).\n",
    "\n",
    "3.2. Exiba o maior valor da lista.\n",
    "\n",
    "3.3. Exiba a “amplitude” dos valores, ou seja, o maior valor menos o menor valor da lista.\n",
    "\n",
    "3.4. Exiba a soma de todos os valores da lista (somatório).\n",
    "\n",
    "3.5. Exiba a média simples dos valores da lista.\n",
    "Se forem 10 valores, some os 10 valores, dividindo o resultado por 10.\n",
    "\n",
    "3.6. Exiba o desvio padrão dos valores da lista.\n",
    "\n",
    "3.7. Exiba a variância dos valores da lista (é o desvio padrão ao quadrado, ou, sem a raiz do DP)"
   ]
  },
  {
   "cell_type": "code",
   "execution_count": null,
   "metadata": {},
   "outputs": [],
   "source": []
  }
 ],
 "metadata": {
  "language_info": {
   "name": "python"
  },
  "orig_nbformat": 4
 },
 "nbformat": 4,
 "nbformat_minor": 2
}
